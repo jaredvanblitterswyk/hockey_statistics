{
 "cells": [
  {
   "cell_type": "markdown",
   "metadata": {},
   "source": [
    "## Data cleaning spreadsheet\n",
    "\n",
    "Read in all plays over the course of the nhl season and compile them into master lists based on category (shot, blocked shot, goal, missed shot, penalty, giveaway, takeaway, etc.)"
   ]
  },
  {
   "cell_type": "code",
   "execution_count": 3,
   "metadata": {},
   "outputs": [],
   "source": [
    "import csv\n",
    "from csv import reader, writer\n",
    "import os\n",
    "\n",
    "all_plays_dir = 'C:/Users/Jared/Documents/hockey_statistics/20192020_game_data'\n",
    "\n",
    "#initialize lists\n",
    "shots = [] # two players listed (shooter)\n",
    "missed_shots = [] # one player listed\n",
    "hits = [] # two players listed (hitter, hittee)\n",
    "giveaways = [] # one player listed \n",
    "takeaways = [] # one player listed \n",
    "goals = [] # up to four players listed (scorer, assist 1, assist 2, goalie)\n"
   ]
  },
  {
   "cell_type": "code",
   "execution_count": 4,
   "metadata": {},
   "outputs": [
    {
     "name": "stdout",
     "output_type": "stream",
     "text": [
      "1082\n",
      "[['Date_Time', 'Period', 'Period_Time', 'Period_Time_Remaining', 'Event_Type', 'Event_Type_Secondary', 'x', 'y', 'Player_1', 'Player_1_Type', 'Player_1_Team', 'Player_2', 'Player_2_Type', 'Player_2_Team', 'Player_3', 'Player_3_Type', 'Player_3_Team', 'Player_4', 'Player_4_Type', 'Player_4_Team'], ['2019-10-03T00:11:04Z', '1', '00:00', '20:00', 'Faceoff', 'n/a', '0.0', '0.0', 'John Tavares', 'Winner', 'Toronto Maple Leafs', 'Colin White', 'Loser', 'Ottawa Senators', 'n/a', 'n/a', 'n/a', 'n/a', 'n/a', 'n/a'], ['2019-10-02T23:15:32Z', '1', '00:25', '19:35', 'Goal', 'Tip-In', '85.0', '-1.0', 'Brady Tkachuk', 'Scorer', 'Ottawa Senators', 'Connor Brown', 'Assist', 'Ottawa Senators', 'Colin White', 'Assist', 'Ottawa Senators', 'Frederik Andersen', 'Goalie', 'Toronto Maple Leafs'], ['2019-10-02T23:16:26Z', '1', '00:25', '19:35', 'Faceoff', 'n/a', '0.0', '0.0', 'Chris Tierney', 'Winner', 'Ottawa Senators', 'William Nylander', 'Loser', 'Toronto Maple Leafs', 'n/a', 'n/a', 'n/a', 'n/a', 'n/a', 'n/a'], ['2019-10-02T23:16:31Z', '1', '00:38', '19:22', 'Missed Shot', 'n/a', '28.0', '-37.0', 'Nikita Zaitsev', 'Shooter', 'Ottawa Senators', 'n/a', 'n/a', 'n/a', 'n/a', 'n/a', 'n/a', 'n/a', 'n/a', 'n/a']]\n"
     ]
    }
   ],
   "source": [
    "games = [i for i in os.listdir(all_plays_dir)]\n",
    "\n",
    "print(len(games))\n",
    "\n",
    "file = '20192020_2019_10_02_tor_v_ott.csv'\n",
    "\n",
    "filepath = os.path.join(all_plays_dir,file)\n",
    "\n",
    "opened_file = open(filepath)\n",
    "\n",
    "event_data = list(reader(opened_file))\n",
    "\n",
    "print(event_data[0:5])\n",
    "\n"
   ]
  }
 ],
 "metadata": {
  "kernelspec": {
   "display_name": "Python 3",
   "language": "python",
   "name": "python3"
  },
  "language_info": {
   "codemirror_mode": {
    "name": "ipython",
    "version": 3
   },
   "file_extension": ".py",
   "mimetype": "text/x-python",
   "name": "python",
   "nbconvert_exporter": "python",
   "pygments_lexer": "ipython3",
   "version": "3.7.5"
  }
 },
 "nbformat": 4,
 "nbformat_minor": 2
}
