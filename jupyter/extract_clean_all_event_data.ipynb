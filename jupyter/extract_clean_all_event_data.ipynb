{
 "cells": [
  {
   "cell_type": "markdown",
   "metadata": {},
   "source": [
    "## Data cleaning spreadsheet\n",
    "\n",
    "Read in all plays over the course of the nhl season and compile them into master lists based on category (shot, blocked shot, goal, missed shot, penalty, giveaway, takeaway, etc.)"
   ]
  },
  {
   "cell_type": "code",
   "execution_count": 57,
   "metadata": {},
   "outputs": [],
   "source": [
    "import csv\n",
    "from csv import reader, writer\n",
    "import os\n",
    "import datetime\n",
    "\n",
    "all_plays_dir = 'C:/Users/Jared/Documents/hockey_statistics/20192020_game_data'\n",
    "\n",
    "#initialize lists\n",
    "shots = [] # two players listed (shooter, goalie)\n",
    "missed_shots = [] # one player listed\n",
    "blocked_shots = [] # two players listed (blocker, shooter)\n",
    "hits = [] # two players listed (hitter, hittee)\n",
    "giveaways = [] # one player listed \n",
    "takeaways = [] # one player listed \n",
    "goals = [] # up to four players listed (scorer, assist 1, assist 2, goalie)\n",
    "faceoffs = [] # two players listed (winner, loser)"
   ]
  },
  {
   "cell_type": "code",
   "execution_count": 58,
   "metadata": {},
   "outputs": [
    {
     "name": "stdout",
     "output_type": "stream",
     "text": [
      "[[85.0, -1.0, 'Ottawa Senators', 'Brady Tkachuk', 1, '00:25', 0], [86.0, 0.0, 'Toronto Maple Leafs', 'Frederik Gauthier', 2, '02:20', 1], [84.0, 2.0, 'Toronto Maple Leafs', 'Trevor Moore', 2, '04:42', 1], [83.0, 6.0, 'Ottawa Senators', 'Scott Sabourin', 2, '05:51', 0], [83.0, 5.0, 'Toronto Maple Leafs', 'Auston Matthews', 2, '08:02', 0], [65.0, -20.0, 'Toronto Maple Leafs', 'Auston Matthews', 2, '14:50', 0], [78.0, -9.0, 'Toronto Maple Leafs', 'Ilya Mikheyev', 3, '09:43', 0], [72.0, 2.0, 'Ottawa Senators', 'Bobby Ryan', 3, '17:45', 1]]\n"
     ]
    }
   ],
   "source": [
    "games = [i for i in os.listdir(all_plays_dir)]\n",
    "\n",
    "file = '20192020_2019_10_02_tor_v_ott.csv'\n",
    "\n",
    "# define file path and open with csv reader\n",
    "filepath = os.path.join(all_plays_dir,file)\n",
    "opened_file = open(filepath)\n",
    "event_data = list(reader(opened_file))\n",
    "time_format = '%M:%S'\n",
    "\n",
    "for event in event_data[1:]:\n",
    "    event_type = event[4].title()\n",
    "    p = int(event[1])\n",
    "    t_str = event[2]\n",
    "    t = datetime.datetime.strptime(t_str,\"%M:%S\")\n",
    "    \n",
    "    #print(date_time_obj)\n",
    "    x = float(event[6])\n",
    "    y = float(event[7])\n",
    "    player1 = event[8]\n",
    "    player1_team = event[10]\n",
    "    \n",
    "    # clean coordinates to plot on half ice\n",
    "    if x < 0:\n",
    "        x = -1*x # flip to +ve coordinates\n",
    "        y = -1*y # mirror location along center when flipping\n",
    "    \n",
    "    lst = [x,y,player1_team,player1,p,t_str]\n",
    "    if event_type == 'Goal':\n",
    "        prev_t = datetime.datetime.strptime(prev_event[2],\"%M:%S\")\n",
    "        dt = (t-prev_t).total_seconds()\n",
    "        if dt <2: # check for rebound - goal within 2 seconds of shot\n",
    "            r = 1\n",
    "        else:\n",
    "            r = 0\n",
    "        \n",
    "        lst.extend([r])\n",
    "        goals.append(lst)\n",
    "        \n",
    "    elif event_type == \"Shot\":\n",
    "        shots.append(lst)\n",
    "    elif event_type == \"Missed Shot\":\n",
    "        missed_shots.append(lst)\n",
    "    elif event_type == \"Blocked Shot\":\n",
    "        blocked_shots.append(lst)\n",
    "    elif event_type == \"Giveaway\":\n",
    "        giveaways.append(lst)\n",
    "    elif event_type == \"Takeaway\":\n",
    "        takeaways.append(lst)\n",
    "    elif event_type == \"Hit\":\n",
    "        hits.append(lst)        \n",
    "    elif event_type == 'Faceoff':\n",
    "        faceoffs.append(lst)\n",
    "        \n",
    "    prev_event = event\n",
    "    \n",
    "print(goals)"
   ]
  },
  {
   "cell_type": "code",
   "execution_count": 59,
   "metadata": {},
   "outputs": [
    {
     "name": "stdout",
     "output_type": "stream",
     "text": [
      "8\n"
     ]
    }
   ],
   "source": [
    "print(len(goals))"
   ]
  },
  {
   "cell_type": "code",
   "execution_count": null,
   "metadata": {},
   "outputs": [],
   "source": [
    "xG, Wins above replacement (WAR) - player: \n",
    "save percentage above expected (GSAA): num of goals against - shots_against*league_average_save_percentage"
   ]
  },
  {
   "cell_type": "code",
   "execution_count": null,
   "metadata": {},
   "outputs": [],
   "source": []
  }
 ],
 "metadata": {
  "kernelspec": {
   "display_name": "Python 3",
   "language": "python",
   "name": "python3"
  },
  "language_info": {
   "codemirror_mode": {
    "name": "ipython",
    "version": 3
   },
   "file_extension": ".py",
   "mimetype": "text/x-python",
   "name": "python",
   "nbconvert_exporter": "python",
   "pygments_lexer": "ipython3",
   "version": "3.7.5"
  }
 },
 "nbformat": 4,
 "nbformat_minor": 2
}
